{
 "cells": [
  {
   "cell_type": "markdown",
   "metadata": {},
   "source": [
    "# Proof of Concept"
   ]
  },
  {
   "cell_type": "code",
   "execution_count": 1,
   "metadata": {},
   "outputs": [],
   "source": [
    "from typing import Tuple"
   ]
  },
  {
   "cell_type": "code",
   "execution_count": 2,
   "metadata": {},
   "outputs": [],
   "source": [
    "from IPython.display import HTML, display\n",
    "import matplotlib.pyplot as plt\n",
    "import pandas as pd\n",
    "import seaborn as sns"
   ]
  },
  {
   "cell_type": "code",
   "execution_count": 3,
   "metadata": {},
   "outputs": [],
   "source": [
    "# Just for test data\n",
    "import numpy as np"
   ]
  },
  {
   "cell_type": "code",
   "execution_count": 4,
   "metadata": {},
   "outputs": [],
   "source": [
    "groups = ['control', 'test']\n",
    "conversions = [478, 532]\n",
    "totals = [5323, 5277]"
   ]
  },
  {
   "cell_type": "code",
   "execution_count": 5,
   "metadata": {},
   "outputs": [],
   "source": [
    "def display_ab_test_results(sample_size: int=10000, shade: bool=False, figsize: Tuple[int, int]=None):\n",
    "    # Use H2 for cell title since H1 should be used for the notebook's title\n",
    "    display(HTML('<h2>A/B Test Results</h2>'))\n",
    "    \n",
    "    display(HTML('''\n",
    "        <table width=\"380\">\n",
    "            <thead>\n",
    "                <tr style=\"text-align: right;\">\n",
    "                    <th>Comparison</th>\n",
    "                    <th>Confidence</th>\n",
    "                    <th>Relative Increase</th>\n",
    "                </tr>\n",
    "            </thead>\n",
    "            <tbody>\n",
    "                <tr>\n",
    "                    <td><b>test</b> converts higher than <b>control</b></td>\n",
    "                    <td><span class=\"badge\" style=\"background:green;\">97%</span></td>\n",
    "                    <td><span class=\"badge\" style=\"background:green;\">9,6%</span></td>\n",
    "                </tr>\n",
    "            </tbody>\n",
    "        </table>\n",
    "    '''))\n",
    "\n",
    "    display(HTML(f'''\n",
    "        <table width=\"380\">\n",
    "            <thead>\n",
    "                <tr style=\"text-align: right;\">\n",
    "                    <th>Group</th>\n",
    "                    <th>Conversion</th>\n",
    "                    <th>Total</th>\n",
    "                    <th>Observed Rate</th>\n",
    "                </tr>\n",
    "            </thead>\n",
    "            <tbody>\n",
    "                <tr>\n",
    "                    <td>{groups[0]}</td>\n",
    "                    <td>{conversions[0]}</td>\n",
    "                    <td>{totals[0]}</td>\n",
    "                    <td>{(conversions[0] / totals[0] * 100):.2f}%</td>\n",
    "                </tr>\n",
    "                <tr>\n",
    "                    <td>{groups[1]}</td>\n",
    "                    <td>{conversions[1]}</td>\n",
    "                    <td>{totals[1]}</td>\n",
    "                    <td>{(conversions[1] / totals[1] * 100):.2f}%</td>\n",
    "                </tr>\n",
    "            </tbody>\n",
    "        </table>\n",
    "    '''))\n",
    "    \n",
    "\n",
    "    if figsize is None:\n",
    "        figsize = (14, 4)\n",
    "    plt.figure(figsize=figsize)\n",
    "    \n",
    "    plt.subplot(121)\n",
    "    plt.title('Comparison of conversion rates')\n",
    "    binom_control = [np.random.binomial(1, conversions[0]/totals[0], totals[0]).mean() for _ in range(sample_size)]\n",
    "    dist_control = np.random.normal(loc=np.mean(binom_control), scale=np.std(binom_control), size=sample_size)\n",
    "    binom_test = [np.random.binomial(1, conversions[1]/totals[1], totals[1]).mean() for _ in range(sample_size)]\n",
    "    dist_test = np.random.normal(loc=np.mean(binom_test), scale=np.std(binom_test), size=sample_size)\n",
    "    sns.kdeplot(dist_control, shade=shade, label='control')\n",
    "    sns.kdeplot(dist_test, shade=shade, label='test')\n",
    "    plt.xlabel('conversion rate')\n",
    "    \n",
    "    plt.subplot(122)\n",
    "    plt.title('Pairwise differences in conversion rates')\n",
    "    sns.kdeplot(dist_test - dist_control, shade=shade, label='test - control')\n",
    "    plt.xlabel('difference in conversion rate')\n",
    "    \n",
    "    plt.show()"
   ]
  },
  {
   "cell_type": "code",
   "execution_count": 6,
   "metadata": {},
   "outputs": [
    {
     "data": {
      "text/html": [
       "<h2>A/B Test Results</h2>"
      ],
      "text/plain": [
       "<IPython.core.display.HTML object>"
      ]
     },
     "metadata": {},
     "output_type": "display_data"
    },
    {
     "data": {
      "text/html": [
       "\n",
       "        <table width=\"380\">\n",
       "            <thead>\n",
       "                <tr style=\"text-align: right;\">\n",
       "                    <th>Comparison</th>\n",
       "                    <th>Confidence</th>\n",
       "                    <th>Relative Increase</th>\n",
       "                </tr>\n",
       "            </thead>\n",
       "            <tbody>\n",
       "                <tr>\n",
       "                    <td><b>test</b> converts higher than <b>control</b></td>\n",
       "                    <td><span class=\"badge\" style=\"background:green;\">97%</span></td>\n",
       "                    <td><span class=\"badge\" style=\"background:green;\">9,6%</span></td>\n",
       "                </tr>\n",
       "            </tbody>\n",
       "        </table>\n",
       "    "
      ],
      "text/plain": [
       "<IPython.core.display.HTML object>"
      ]
     },
     "metadata": {},
     "output_type": "display_data"
    },
    {
     "data": {
      "text/html": [
       "\n",
       "        <table width=\"380\">\n",
       "            <thead>\n",
       "                <tr style=\"text-align: right;\">\n",
       "                    <th>Group</th>\n",
       "                    <th>Conversion</th>\n",
       "                    <th>Total</th>\n",
       "                    <th>Observed Rate</th>\n",
       "                </tr>\n",
       "            </thead>\n",
       "            <tbody>\n",
       "                <tr>\n",
       "                    <td>control</td>\n",
       "                    <td>478</td>\n",
       "                    <td>5323</td>\n",
       "                    <td>8.98%</td>\n",
       "                </tr>\n",
       "                <tr>\n",
       "                    <td>test</td>\n",
       "                    <td>532</td>\n",
       "                    <td>5277</td>\n",
       "                    <td>10.08%</td>\n",
       "                </tr>\n",
       "            </tbody>\n",
       "        </table>\n",
       "    "
      ],
      "text/plain": [
       "<IPython.core.display.HTML object>"
      ]
     },
     "metadata": {},
     "output_type": "display_data"
    },
    {
     "data": {
      "image/png": "[encoded data removed]",
      "text/plain": [
       "<Figure size 1008x288 with 2 Axes>"
      ]
     },
     "metadata": {
      "needs_background": "light"
     },
     "output_type": "display_data"
    }
   ],
   "source": [
    "display_ab_test_results()"
   ]
  }
 ],
 "metadata": {
  "kernelspec": {
   "display_name": "Python 3",
   "language": "python",
   "name": "python3"
  },
  "language_info": {
   "codemirror_mode": {
    "name": "ipython",
    "version": 3
   },
   "file_extension": ".py",
   "mimetype": "text/x-python",
   "name": "python",
   "nbconvert_exporter": "python",
   "pygments_lexer": "ipython3",
   "version": "3.6.5"
  }
 },
 "nbformat": 4,
 "nbformat_minor": 2
}
